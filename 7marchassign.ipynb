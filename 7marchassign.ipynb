{
 "cells": [
  {
   "cell_type": "markdown",
   "id": "ee45cc85-d265-44bb-b47e-27c16aade3da",
   "metadata": {},
   "source": [
    "# **ASSIGNMENT**"
   ]
  },
  {
   "cell_type": "markdown",
   "id": "eeb7c35a-0407-4425-a062-3ab54d597108",
   "metadata": {},
   "source": [
    "**Q1. What are the three measures of central tendency?**"
   ]
  },
  {
   "cell_type": "markdown",
   "id": "83144e23-eeb1-4c3c-ab71-35845493adff",
   "metadata": {},
   "source": [
    "1. Mean\n",
    "2. Median\n",
    "3. Mode"
   ]
  },
  {
   "cell_type": "markdown",
   "id": "c1b9a565-d2df-4a93-92e7-5f796815f260",
   "metadata": {},
   "source": [
    "**Q2. What is the difference between the mean, median, and mode? How are they used to measure the\n",
    "central tendency of a dataset?**"
   ]
  },
  {
   "cell_type": "markdown",
   "id": "69d8a68f-546c-4e26-9901-4c976af9602e",
   "metadata": {},
   "source": [
    "The mean, median, and mode are statistical measures used to describe the central tendency of a dataset.\n",
    "\n",
    "1. Mean: The mean is calculated by summing up all the values in a dataset and dividing the sum by the total number of values. It is also known as the average. The mean is sensitive to outliers since it takes into account every value in the dataset. It is commonly used when the data is normally distributed or when we want to find the average value of a dataset.\n",
    "\n",
    "2. Median: The median is the middle value of a dataset when the values are arranged in ascending or descending order. If the dataset has an odd number of values, the median is the middle value. If the dataset has an even number of values, the median is the average of the two middle values. The median is less affected by outliers compared to the mean, making it a robust measure of central tendency. It is often used when the dataset contains outliers or when the data is skewed.\n",
    "\n",
    "3. Mode: The mode is the value or values that occur most frequently in a dataset. In other words, it is the value with the highest frequency. A dataset can have multiple modes (multimodal) or no mode if all values occur with the same frequency. The mode is useful for categorical or discrete data, such as colors or categories, rather than continuous numerical data.\n",
    "\n",
    "These measures are used to understand the central tendency of a dataset in different scenarios. The mean provides an overall average of the data, while the median gives a measure of the central value that is less influenced by outliers. The mode identifies the most common value(s) in the dataset."
   ]
  },
  {
   "cell_type": "markdown",
   "id": "86b40d7b-1e3d-4541-a03a-5c41f01485d1",
   "metadata": {},
   "source": [
    "**Q3. Measure the three measures of central tendency for the given height data:**\n",
    "\n",
    "[178,177,176,177,178.2,178,175,179,180,175,178.9,176.2,177,172.5,178,176.5]"
   ]
  },
  {
   "cell_type": "code",
   "execution_count": 1,
   "id": "ad620390-191c-4b22-b799-ed66af490672",
   "metadata": {},
   "outputs": [],
   "source": [
    "import numpy as np"
   ]
  },
  {
   "cell_type": "code",
   "execution_count": 2,
   "id": "32629e09-f12d-4584-9f58-d4c5677fb474",
   "metadata": {},
   "outputs": [],
   "source": [
    "lst=[178,177,176,177,178.2,178,175,179,180,175,178.9,176.2,177,172.5,178,176.5]"
   ]
  },
  {
   "cell_type": "code",
   "execution_count": 3,
   "id": "0b08b414-0f70-4b3e-a459-eab7116fd833",
   "metadata": {},
   "outputs": [
    {
     "data": {
      "text/plain": [
       "177.01875"
      ]
     },
     "execution_count": 3,
     "metadata": {},
     "output_type": "execute_result"
    }
   ],
   "source": [
    "np.mean(lst)"
   ]
  },
  {
   "cell_type": "code",
   "execution_count": 4,
   "id": "e4351e68-6e18-4eab-8690-5d0fdb0961b5",
   "metadata": {},
   "outputs": [
    {
     "data": {
      "text/plain": [
       "177.0"
      ]
     },
     "execution_count": 4,
     "metadata": {},
     "output_type": "execute_result"
    }
   ],
   "source": [
    "np.median(lst)"
   ]
  },
  {
   "cell_type": "code",
   "execution_count": 5,
   "id": "93772910-c8d6-4c85-b324-0521e09d263b",
   "metadata": {},
   "outputs": [
    {
     "data": {
      "text/plain": [
       "178.0    3\n",
       "177.0    3\n",
       "175.0    2\n",
       "176.0    1\n",
       "178.2    1\n",
       "179.0    1\n",
       "180.0    1\n",
       "178.9    1\n",
       "176.2    1\n",
       "172.5    1\n",
       "176.5    1\n",
       "dtype: int64"
      ]
     },
     "execution_count": 5,
     "metadata": {},
     "output_type": "execute_result"
    }
   ],
   "source": [
    "import pandas as pd\n",
    "pd.value_counts(lst)"
   ]
  },
  {
   "cell_type": "markdown",
   "id": "9a4e8f8f-5b9a-441f-a6a2-aafbcdb21f04",
   "metadata": {},
   "source": [
    "mode= 178,177"
   ]
  },
  {
   "cell_type": "code",
   "execution_count": 6,
   "id": "c1558ad8-ff02-4c51-83bb-17d0c63689d3",
   "metadata": {},
   "outputs": [],
   "source": [
    "## Alternate way to calculate mode\n",
    "\n",
    "import statistics"
   ]
  },
  {
   "cell_type": "code",
   "execution_count": 7,
   "id": "c5701386-2c22-480d-8b96-8c1b8994e463",
   "metadata": {},
   "outputs": [
    {
     "data": {
      "text/plain": [
       "178"
      ]
     },
     "execution_count": 7,
     "metadata": {},
     "output_type": "execute_result"
    }
   ],
   "source": [
    "statistics.mode(lst)"
   ]
  },
  {
   "cell_type": "markdown",
   "id": "9ab9abef-5995-4cb7-a0a9-a5f2f9bfd8ac",
   "metadata": {},
   "source": [
    "**Q4. Find the standard deviation for the given data:**\n",
    "\n",
    "[178,177,176,177,178.2,178,175,179,180,175,178.9,176.2,177,172.5,178,176.5]"
   ]
  },
  {
   "cell_type": "code",
   "execution_count": 8,
   "id": "4c33e23e-1df6-4446-b8bd-3803ab228691",
   "metadata": {},
   "outputs": [],
   "source": [
    "lst1=[178,177,176,177,178.2,178,175,179,180,175,178.9,176.2,177,172.5,178,176.5]"
   ]
  },
  {
   "cell_type": "code",
   "execution_count": 9,
   "id": "3329fa67-65f7-4198-8a67-62aaac82b936",
   "metadata": {},
   "outputs": [
    {
     "data": {
      "text/plain": [
       "1.7885814036548633"
      ]
     },
     "execution_count": 9,
     "metadata": {},
     "output_type": "execute_result"
    }
   ],
   "source": [
    "np.std(lst1)"
   ]
  },
  {
   "cell_type": "markdown",
   "id": "53edc372-e4cd-42b8-842c-613dcbcf8559",
   "metadata": {},
   "source": [
    "**Q5. How are measures of dispersion such as range, variance, and standard deviation used to describe\n",
    "the spread of a dataset? Provide an example.**"
   ]
  },
  {
   "cell_type": "markdown",
   "id": "70ba882e-63fe-4e6b-9e64-2879a0db06d8",
   "metadata": {},
   "source": [
    "Measures of dispersion, such as range, variance, and standard deviation, provide information about the spread or variability of a dataset.\n",
    "\n",
    "1. Range: The range is the simplest measure of dispersion and is calculated by subtracting the minimum value from the maximum value in a dataset. It provides a rough estimate of how spread out the data points are. However, the range only considers the extreme values and does not account for the distribution of values in between.\n",
    "\n",
    "2. Variance: Variance is a measure of how much the values in a dataset deviate from the mean. It is calculated by taking the average of the squared differences between each value and the mean. Variance considers all the data points and provides a more comprehensive measure of dispersion. However, since it involves squared differences, the variance is not in the same unit as the original data, making it less interpretable.\n",
    "\n",
    "3. Standard Deviation: The standard deviation is the square root of the variance. It measures the average amount of deviation or dispersion from the mean. The standard deviation is often preferred over variance as it is in the same unit as the original data and is more easily interpretable. It provides a measure of the spread of the dataset around the mean.\n",
    "\n",
    "Let's consider an example to demonstrate the use of these measures of dispersion. Suppose we have the following dataset representing the daily temperatures in Celsius over a week:\n",
    "\n",
    "[20, 22, 21, 19, 25, 23, 18]\n",
    "\n",
    "- The range is calculated as the difference between the maximum and minimum values: 25 - 18 = 7. The range tells us that the temperature values vary by 7 degrees Celsius over the week.\n",
    "\n",
    "- To calculate the variance, we first find the mean by summing up all the values and dividing by the total number of values: (20 + 22 + 21 + 19 + 25 + 23 + 18) / 7 = 21.14. Then, we calculate the squared differences between each value and the mean, and find their average: [(20 - 21.14)^2 + (22 - 21.14)^2 + ... + (18 - 21.14)^2] / 7 ≈ 4.67. The variance indicates the average squared deviation from the mean temperature.\n",
    "\n",
    "- The standard deviation is the square root of the variance: sqrt(4.67) ≈ 2.16. The standard deviation tells us that, on average, the daily temperatures deviate by approximately 2.16 degrees Celsius from the mean.\n",
    "\n",
    "These measures of dispersion provide insights into the spread of the dataset, helping to understand how much the values deviate from the central tendency and providing a sense of the overall variability."
   ]
  },
  {
   "cell_type": "markdown",
   "id": "31483107-3711-4805-88b9-8571a5901abd",
   "metadata": {},
   "source": [
    "**Q6. What is a Venn diagram?**"
   ]
  },
  {
   "cell_type": "markdown",
   "id": "ba5af4cd-bf7d-4bab-84f4-828b07887eae",
   "metadata": {},
   "source": [
    "A Venn diagram is a visual representation of the relationships between different sets of items or concepts. It uses overlapping circles or other shapes to show the common and distinct elements among the sets being compared.\n",
    "\n",
    "In a Venn diagram, each set is represented by a circle or other closed shape. The overlapping regions between the circles show the elements that are common to multiple sets, while the non-overlapping regions represent the elements that are unique to each set.\n",
    "\n",
    "The purpose of a Venn diagram is to illustrate the logical relationships and similarities between sets. It helps in visualizing the intersections and differences between different groups or categories. Venn diagrams are widely used in various fields, including mathematics, logic, statistics, data analysis, and problem-solving."
   ]
  },
  {
   "cell_type": "markdown",
   "id": "c61823d4-1590-4fc4-a1cc-bcecc80f6b89",
   "metadata": {},
   "source": [
    "**Q7. For the two given sets A = (2,3,4,5,6,7) & B = (0,2,6,8,10).\n",
    "Find:<br>\n",
    "(i) A intersection B<br>\n",
    "(ii) A ⋃ B<br>**"
   ]
  },
  {
   "cell_type": "code",
   "execution_count": 10,
   "id": "c5337a38-8e80-4d32-818b-63b0483e951d",
   "metadata": {},
   "outputs": [],
   "source": [
    "A ={2,3,4,5,6,7}\n",
    "B ={0,2,6,8,10}"
   ]
  },
  {
   "cell_type": "code",
   "execution_count": 11,
   "id": "f7e269c0-e8d1-4d8c-b9f7-0d833d61b234",
   "metadata": {},
   "outputs": [
    {
     "data": {
      "text/plain": [
       "{2, 6}"
      ]
     },
     "execution_count": 11,
     "metadata": {},
     "output_type": "execute_result"
    }
   ],
   "source": [
    "A.intersection(B)"
   ]
  },
  {
   "cell_type": "code",
   "execution_count": 12,
   "id": "958b76ab-470c-49bf-af37-95e85e79ae6e",
   "metadata": {},
   "outputs": [
    {
     "data": {
      "text/plain": [
       "{0, 2, 3, 4, 5, 6, 7, 8, 10}"
      ]
     },
     "execution_count": 12,
     "metadata": {},
     "output_type": "execute_result"
    }
   ],
   "source": [
    "A.union(B)"
   ]
  },
  {
   "cell_type": "markdown",
   "id": "5966ac6f-f3cc-4bae-b9bf-e22d3fd2a31b",
   "metadata": {},
   "source": [
    "**Q8. What do you understand about skewness in data?**"
   ]
  },
  {
   "cell_type": "markdown",
   "id": "61d43cc9-47c1-4538-b8cd-3ec6f19df4ec",
   "metadata": {},
   "source": [
    "Skewness in data refers to the measure of asymmetry or the lack of symmetry in the distribution of a dataset. It provides information about the shape of the distribution and how it deviates from a symmetrical pattern.\n",
    "\n",
    "In a symmetrical distribution, the data is evenly distributed around the mean, and the left and right tails of the distribution are mirror images of each other. However, when skewness is present, the distribution may be skewed to the left (negatively skewed) or to the right (positively skewed).\n",
    "\n",
    "- Negatively Skewed (Left-skewed): In a negatively skewed distribution, the tail on the left side of the distribution is longer or more spread out than the tail on the right side. This means that the majority of the data points are concentrated towards the right side, while the left side has a few extreme values. The mean is typically less than the median in a negatively skewed distribution.\n",
    "\n",
    "- Positively Skewed (Right-skewed): In a positively skewed distribution, the tail on the right side of the distribution is longer or more spread out than the tail on the left side. This indicates that the majority of the data points are concentrated towards the left side, while the right side has a few extreme values. The mean is typically greater than the median in a positively skewed distribution.\n",
    "\n",
    "Skewness is a useful measure because it helps in understanding the shape and symmetry of a dataset. It provides insights into the nature of the data distribution and can impact statistical analyses and modeling decisions. Analyzing skewness can help identify potential outliers or non-normal distributions, which can influence the choice of appropriate statistical methods and interpretations."
   ]
  },
  {
   "cell_type": "markdown",
   "id": "2eff60b1-dba4-4d77-9c34-3485c3cc0eb3",
   "metadata": {},
   "source": [
    "**Q9. If a data is right skewed then what will be the position of median with respect to mean?**"
   ]
  },
  {
   "cell_type": "markdown",
   "id": "99ea5836-10fe-4569-a943-2dedab3f3c33",
   "metadata": {},
   "source": [
    "If a data is right skewed then median lies left to mean."
   ]
  },
  {
   "cell_type": "markdown",
   "id": "da4b0402-5727-45b7-9b0a-7338bee3757e",
   "metadata": {},
   "source": [
    "**Q10. Explain the difference between covariance and correlation. How are these measures used in\n",
    "statistical analysis?**"
   ]
  },
  {
   "cell_type": "markdown",
   "id": "94dc6928-028e-46c6-b91f-b734aea77832",
   "metadata": {},
   "source": [
    "Covariance and correlation are both measures used to quantify the relationship between variables in statistical analysis.\n",
    "\n",
    "Covariance:\n",
    "- Covariance measures the extent to which two variables vary together. It indicates the direction (positive or negative) and the magnitude of the linear relationship between two variables.\n",
    "- Covariance can take any value, positive or negative, depending on the nature of the relationship between variables.\n",
    "- The magnitude of covariance is not standardized, making it difficult to compare across different datasets or variables.\n",
    "- Covariance is affected by the units of measurement of the variables.\n",
    "\n",
    "Correlation:\n",
    "- Correlation measures the strength and direction of the linear relationship between two variables. It is a standardized version of covariance.\n",
    "- Correlation coefficients range from -1 to 1. A value of -1 indicates a perfect negative linear relationship, 0 indicates no linear relationship, and 1 indicates a perfect positive linear relationship.\n",
    "- Correlation is unitless, making it easier to compare across different datasets or variables.\n",
    "- Correlation is a more useful measure when comparing variables with different scales or units.\n",
    "- Correlation is a more popular and widely used measure compared to covariance due to its standardized nature.\n",
    "\n",
    "In statistical analysis:\n",
    "- Covariance is used to understand the direction and magnitude of the relationship between two variables. Positive covariance indicates a direct relationship (as one variable increases, the other tends to increase), negative covariance indicates an inverse relationship (as one variable increases, the other tends to decrease), and zero covariance indicates no linear relationship.\n",
    "- Correlation is used to assess the strength and direction of the linear relationship between two variables. It is especially valuable when comparing variables measured on different scales or units. Correlation helps in determining the degree of association between variables, allowing for a more standardized and interpretable measure of relationship.\n",
    "\n",
    "Both covariance and correlation are essential tools for analyzing the relationship between variables. They provide insights into how variables move together and can be used to identify patterns, dependencies, and associations in the data."
   ]
  },
  {
   "cell_type": "markdown",
   "id": "6d3e865a-d92c-4019-802a-d8b6c73b50b0",
   "metadata": {},
   "source": [
    "**Q11. What is the formula for calculating the sample mean? Provide an example calculation for a\n",
    "dataset.**"
   ]
  },
  {
   "cell_type": "markdown",
   "id": "0cd789b5-8edf-4ad8-86af-88c942b08517",
   "metadata": {},
   "source": [
    "sample_mean=$(∑Xi)/(n)$ <br>\n",
    "       **or**<br>\n",
    "sample_mean=(x_1+x_2+........+x_n)/n , where n denotes the length of sample set       "
   ]
  },
  {
   "cell_type": "markdown",
   "id": "61de4760-4731-4eb0-a68d-04137beb0ceb",
   "metadata": {},
   "source": [
    "let x=[10,20,30,40,50] be the sample set then,\n",
    "\n",
    "sample_mean=(10+20+30+40+50)/5=150/5=30"
   ]
  },
  {
   "cell_type": "code",
   "execution_count": 13,
   "id": "459f4629-ea3c-4a59-a7fc-326c9d648c6a",
   "metadata": {},
   "outputs": [
    {
     "data": {
      "text/plain": [
       "30.0"
      ]
     },
     "execution_count": 13,
     "metadata": {},
     "output_type": "execute_result"
    }
   ],
   "source": [
    "x=[10,20,30,40,50]\n",
    "sample_mean=sum(x)/len(x)\n",
    "sample_mean"
   ]
  },
  {
   "cell_type": "markdown",
   "id": "6913b6b6-f236-4ece-ad96-be531cc6747f",
   "metadata": {},
   "source": [
    "**Q12. For a normal distribution data what is the relationship between its measure of central tendency?**"
   ]
  },
  {
   "cell_type": "markdown",
   "id": "2bdd7c4c-3576-4956-acd0-c073902d1af2",
   "metadata": {},
   "source": [
    "For a normal distribution,the relationship between its measure of central tendency is mean, median, and mode are all equal to each other. This shows the symmetry and balance of the distribution around its center."
   ]
  },
  {
   "cell_type": "markdown",
   "id": "dc687194-94cb-490c-b6be-a4f7b69adb47",
   "metadata": {},
   "source": [
    "**Q13. How is covariance different from correlation?**"
   ]
  },
  {
   "cell_type": "markdown",
   "id": "91c8c391-bfad-4d2b-a0da-e56fa0353836",
   "metadata": {},
   "source": [
    "Covariance and correlation are both measures used to quantify the relationship between variables in statistical analysis.\n",
    "\n",
    "Covariance:\n",
    "- Covariance measures the extent to which two variables vary together. It indicates the direction (positive or negative) and the magnitude of the linear relationship between two variables.\n",
    "- Covariance can take any value, positive or negative, depending on the nature of the relationship between variables.\n",
    "- The magnitude of covariance is not standardized, making it difficult to compare across different datasets or variables.\n",
    "- Covariance is affected by the units of measurement of the variables.\n",
    "\n",
    "Correlation:\n",
    "- Correlation measures the strength and direction of the linear relationship between two variables. It is a standardized version of covariance.\n",
    "- Correlation coefficients range from -1 to 1. A value of -1 indicates a perfect negative linear relationship, 0 indicates no linear relationship, and 1 indicates a perfect positive linear relationship.\n",
    "- Correlation is unitless, making it easier to compare across different datasets or variables.\n",
    "- Correlation is a more useful measure when comparing variables with different scales or units.\n",
    "- Correlation is a more popular and widely used measure compared to covariance due to its standardized nature."
   ]
  },
  {
   "cell_type": "markdown",
   "id": "3e3aa7cc-9f97-4760-99bd-74732904d11d",
   "metadata": {},
   "source": [
    "**Q14. How do outliers affect measures of central tendency and dispersion? Provide an example.**"
   ]
  },
  {
   "cell_type": "markdown",
   "id": "a2980071-4a69-4b7d-a67b-bbcdc0f637b7",
   "metadata": {},
   "source": [
    "Outliers can have a significant impact on measures of central tendency and dispersion in a dataset. Here's how outliers affect these measures:\n",
    "\n",
    "Measures of Central Tendency:\n",
    "1. Mean: Outliers can significantly affect the mean. Since the mean is calculated by summing all the values and dividing by the total count, outliers with extreme values can pull the mean towards them. This can result in a skewed estimation of the central value if the outliers are present.\n",
    "\n",
    "2. Median: The median is generally more robust to outliers compared to the mean. Outliers have less influence on the median because it represents the middle value when the data is sorted. However, if an outlier is extreme enough, it can still affect the median, particularly if the dataset is small.\n",
    "\n",
    "3. Mode: Outliers typically do not affect the mode since it represents the most frequent value(s) in the dataset. Outliers tend to be distinct and not recurring, so they do not impact the mode directly.\n",
    "\n",
    "Measures of Dispersion:\n",
    "1. Range: Outliers can significantly impact the range, which is the difference between the maximum and minimum values in a dataset. If an outlier has an extremely high or low value, it can cause the range to increase dramatically.\n",
    "\n",
    "2. Variance and Standard Deviation: Outliers have a substantial effect on the variance and standard deviation. Both measures rely on the squared deviations from the mean. Outliers with extreme values can increase the deviations, leading to larger variances and standard deviations.\n",
    "\n",
    "Let's consider an example to illustrate the impact of outliers:\n",
    "\n",
    "Dataset: [10, 12, 15, 18, 20, 300]\n",
    "\n",
    "In this dataset, the value 300 is an outlier. Let's see how it affects the measures of central tendency and dispersion:\n",
    "\n",
    "- Mean: The presence of the outlier 300 significantly influences the mean. The mean would be pulled towards the outlier, resulting in a higher value than what represents the majority of the data.\n",
    "\n",
    "- Median: The median is less affected by the outlier. It remains close to the center of the dataset, reflecting the typical value of the majority of the data.\n",
    "\n",
    "- Range: The outlier increases the range of the dataset, as the difference between the maximum value (300) and minimum value (10) becomes larger due to the outlier.\n",
    "\n",
    "- Variance and Standard Deviation: The outlier affects both variance and standard deviation by increasing the dispersion. The squared deviations from the mean, which are summed in variance and used in calculating the standard deviation, are influenced by the outlier's large value.\n",
    "\n",
    "In summary, outliers can distort measures of central tendency, such as the mean, and impact measures of dispersion, such as the range, variance, and standard deviation. It is crucial to identify and handle outliers appropriately to obtain accurate and meaningful statistical summaries."
   ]
  },
  {
   "cell_type": "markdown",
   "id": "cc287a13-320e-4510-beb1-e9e94147effe",
   "metadata": {},
   "source": [
    "----------"
   ]
  },
  {
   "cell_type": "code",
   "execution_count": null,
   "id": "2fd72214-0bfb-4759-9709-71017831df6e",
   "metadata": {},
   "outputs": [],
   "source": []
  }
 ],
 "metadata": {
  "kernelspec": {
   "display_name": "Python 3 (ipykernel)",
   "language": "python",
   "name": "python3"
  },
  "language_info": {
   "codemirror_mode": {
    "name": "ipython",
    "version": 3
   },
   "file_extension": ".py",
   "mimetype": "text/x-python",
   "name": "python",
   "nbconvert_exporter": "python",
   "pygments_lexer": "ipython3",
   "version": "3.10.8"
  }
 },
 "nbformat": 4,
 "nbformat_minor": 5
}
